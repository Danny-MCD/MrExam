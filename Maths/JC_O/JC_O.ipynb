{
 "cells": [
  {
   "cell_type": "markdown",
   "metadata": {},
   "source": [
    "# Numbers"
   ]
  },
  {
   "cell_type": "markdown",
   "metadata": {},
   "source": [
    "## Natural Numbers - **ℕ**"
   ]
  },
  {
   "cell_type": "markdown",
   "metadata": {},
   "source": [
    "These are the counting numbers starting at 1 and going up to infinity  \n",
    "N = 1, 2, 3, 4, ...\n"
   ]
  },
  {
   "cell_type": "markdown",
   "metadata": {},
   "source": [
    "## Integers - **ℤ**"
   ]
  },
  {
   "cell_type": "markdown",
   "metadata": {},
   "source": [
    "Whole numbers that may be either positive or negative  \n",
    "Z = ..., -3, -2, -1, 0, 1, 2, 3, ..."
   ]
  },
  {
   "cell_type": "markdown",
   "metadata": {},
   "source": [
    "## Rational Numbers - **ℚ**"
   ]
  },
  {
   "cell_type": "markdown",
   "metadata": {},
   "source": [
    "A rational number is any number that can be expressed as the fraction of two integers.  \n",
    "\n",
    "Examples of Rational Numbers are 3/1, -2/3, 0.75, 3.33333...  \n",
    "Examples of Irational NUmbers are &#8730;2 and &#960;    \n",
    "\n",
    "Key Difference Between Rational and Irrational Numbers:   \n",
    "Rational numbers have a finite or repeating decimal expansion.   \n",
    "Irrational numbers have an infinite, non-repeating decimal expansion.\n",
    "\n",
    "\n"
   ]
  },
  {
   "cell_type": "markdown",
   "metadata": {},
   "source": [
    "## Real Numbers - **ℝ**"
   ]
  },
  {
   "cell_type": "markdown",
   "metadata": {},
   "source": [
    "Real numbers are every number from -&#8734; to +&#8734; These include all natural numbers, integers, decimals, fractions square roots &#8730; and &#960;\n",
    "\n"
   ]
  },
  {
   "cell_type": "markdown",
   "metadata": {},
   "source": [
    "## Symbol Terminology"
   ]
  },
  {
   "cell_type": "markdown",
   "metadata": {},
   "source": [
    "**&isin;** = Element of    \n",
    "**&#8713;** = Not an elment of  \n",
    "**>** = Greater than  \n",
    "**&#8805;** Greater than or equal to  \n",
    "**<** = Less than  \n",
    "**&#8804;** = Less than or equal to  \n",
    "\n",
    "Example: &#945; &#8805; 2,    &#945; < 5,    &#945; &isin; **ℤ**. List elements in the set &#945;?  \n",
    "    Ans: &#945; = {2, 3, 4}\n"
   ]
  },
  {
   "cell_type": "markdown",
   "metadata": {},
   "source": []
  }
 ],
 "metadata": {
  "language_info": {
   "name": "python"
  }
 },
 "nbformat": 4,
 "nbformat_minor": 2
}
